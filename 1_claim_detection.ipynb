{
 "cells": [
  {
   "cell_type": "markdown",
   "metadata": {},
   "source": [
    "# Claim detection\n",
    "The dataset(IBM Debator - Claim Stance Dataset) can be accessed [here](http://www.research.ibm.com/haifa/dept/vst/debating_data.shtml)\n",
    "\n",
    "This dataset contains: 2,394 labeled claims for 55 topics. The dataset includes the stance (Pro/Con) of each claim towards the topic, as well as fine-grained annotations, based on the semantic model of Bar-Haim et al. [2017a] (topic target, topic sentiment towards its target, claim target, claim sentiment towards its target, and the relation \n",
    "between the targets).\n",
    "\n",
    "The dataset includes: \n",
    "1. A utf-8 JSON file containing the topics and the claims found for these topics in Wikipedia articles. \n",
    "   Topics and claims are annotated as described above. \n",
    "2. A utf-8 CSV file containing the same information as the JSON file.\n",
    "3. The original Wikipedia articles - from Wikipedia April 2012 dump - in the form of text files. \n",
    "   For each article, we provide both the original (raw) version, and a clean version, in which any Wikisyntax \n",
    "   and HTML markup is removed.\n",
    "4. A CSV index file, containing the article title and Wikipedia URL for each article.   \n"
   ]
  },
  {
   "cell_type": "code",
   "execution_count": 2,
   "metadata": {
    "collapsed": false
   },
   "outputs": [],
   "source": [
    "import numpy as np\n",
    "import pandas as pd\n",
    "import string\n",
    "import nltk\n",
    "import gensim\n",
    "import os\n",
    "import warnings\n",
    "import matplotlib.pyplot as plt\n",
    "import scikitplot as skplt\n",
    "import networkx as nx\n",
    " \n",
    "from nltk.tokenize.punkt import PunktSentenceTokenizer\n",
    "from sklearn.feature_extraction.text import TfidfTransformer, CountVectorizer\n",
    "\n",
    "from sklearn.model_selection import train_test_split\n",
    "from sklearn.metrics.pairwise import cosine_similarity\n",
    "\n",
    "from keras.models import load_model\n",
    "from keras.models import Sequential\n",
    "from keras.layers import Dense, Flatten,TimeDistributed,LSTM\n",
    "from keras.callbacks import EarlyStopping, ModelCheckpoint\n",
    "\n",
    "%notebook inline\n",
    "warnings.filterwarnings(\"ignore\")\n",
    "root = os.getcwd() + '/IBM_EACL-2017.v1/'"
   ]
  },
  {
   "cell_type": "code",
   "execution_count": null,
   "metadata": {
    "collapsed": true
   },
   "outputs": [],
   "source": [
    "# skplt.plot_confusion_matrix(y, preds)"
   ]
  },
  {
   "cell_type": "markdown",
   "metadata": {},
   "source": [
    "# 1. Reading in data\n",
    "\n",
    "### articles\n",
    "num: 547\n",
    "\n",
    "Note: There're 5013 texts within articles folder, so this dataframe only contains articles that are labeled as one of the 58 topics"
   ]
  },
  {
   "cell_type": "code",
   "execution_count": 3,
   "metadata": {
    "collapsed": false
   },
   "outputs": [],
   "source": [
    "def read_file(filename):\n",
    "    data = []\n",
    "    with open(filename, 'r') as f:\n",
    "        text = f.read().split('\\n')\n",
    "        for parag in text:\n",
    "            if len(parag) >2:\n",
    "                data = data + [a for a in parag.split('. ') if len(a)>0]\n",
    "                \n",
    "    return data"
   ]
  },
  {
   "cell_type": "code",
   "execution_count": 4,
   "metadata": {
    "collapsed": false
   },
   "outputs": [],
   "source": [
    "articles = dict()\n",
    "for subdir, dirs, files in os.walk(root+'articles/'):\n",
    "    for file in files:\n",
    "        if file[-3:] == 'txt' and file[:5] == 'clean':\n",
    "            filename = os.path.join(subdir, file)\n",
    "            articles[file] = read_file(filename)\n"
   ]
  },
  {
   "cell_type": "markdown",
   "metadata": {},
   "source": [
    "### claims\n",
    "num: 2394"
   ]
  },
  {
   "cell_type": "code",
   "execution_count": 5,
   "metadata": {
    "collapsed": false
   },
   "outputs": [],
   "source": [
    "claimDF = pd.read_csv(\"IBM_EACL-2017.v1/claim_stance_dataset_v1.csv\")\n",
    "article_paths = set(claimDF['claims.article.cleanFile'])"
   ]
  },
  {
   "cell_type": "code",
   "execution_count": 6,
   "metadata": {
    "collapsed": false
   },
   "outputs": [
    {
     "data": {
      "text/html": [
       "<div>\n",
       "<style scoped>\n",
       "    .dataframe tbody tr th:only-of-type {\n",
       "        vertical-align: middle;\n",
       "    }\n",
       "\n",
       "    .dataframe tbody tr th {\n",
       "        vertical-align: top;\n",
       "    }\n",
       "\n",
       "    .dataframe thead th {\n",
       "        text-align: right;\n",
       "    }\n",
       "</style>\n",
       "<table border=\"1\" class=\"dataframe\">\n",
       "  <thead>\n",
       "    <tr style=\"text-align: right;\">\n",
       "      <th></th>\n",
       "      <th>0</th>\n",
       "    </tr>\n",
       "  </thead>\n",
       "  <tbody>\n",
       "    <tr>\n",
       "      <th>topicId</th>\n",
       "      <td>1</td>\n",
       "    </tr>\n",
       "    <tr>\n",
       "      <th>split</th>\n",
       "      <td>test</td>\n",
       "    </tr>\n",
       "    <tr>\n",
       "      <th>topicText</th>\n",
       "      <td>This house believes that the sale of violent v...</td>\n",
       "    </tr>\n",
       "    <tr>\n",
       "      <th>topicTarget</th>\n",
       "      <td>the sale of violent video games to minors</td>\n",
       "    </tr>\n",
       "    <tr>\n",
       "      <th>topicSentiment</th>\n",
       "      <td>-1</td>\n",
       "    </tr>\n",
       "    <tr>\n",
       "      <th>claims.claimId</th>\n",
       "      <td>2973</td>\n",
       "    </tr>\n",
       "    <tr>\n",
       "      <th>claims.stance</th>\n",
       "      <td>PRO</td>\n",
       "    </tr>\n",
       "    <tr>\n",
       "      <th>claims.claimCorrectedText</th>\n",
       "      <td>Exposure to violent video games causes at leas...</td>\n",
       "    </tr>\n",
       "    <tr>\n",
       "      <th>claims.claimOriginalText</th>\n",
       "      <td>exposure to violent video games causes at leas...</td>\n",
       "    </tr>\n",
       "    <tr>\n",
       "      <th>claims.article.rawFile</th>\n",
       "      <td>articles/t1/raw_1.txt</td>\n",
       "    </tr>\n",
       "    <tr>\n",
       "      <th>claims.article.rawSpan.start</th>\n",
       "      <td>490</td>\n",
       "    </tr>\n",
       "    <tr>\n",
       "      <th>claims.article.rawSpan.end</th>\n",
       "      <td>640</td>\n",
       "    </tr>\n",
       "    <tr>\n",
       "      <th>claims.article.cleanFile</th>\n",
       "      <td>articles/t1/clean_1.txt</td>\n",
       "    </tr>\n",
       "    <tr>\n",
       "      <th>claims.article.cleanSpan.start</th>\n",
       "      <td>418</td>\n",
       "    </tr>\n",
       "    <tr>\n",
       "      <th>claims.article.cleanSpan.end</th>\n",
       "      <td>568</td>\n",
       "    </tr>\n",
       "    <tr>\n",
       "      <th>claims.Compatible</th>\n",
       "      <td>yes</td>\n",
       "    </tr>\n",
       "    <tr>\n",
       "      <th>claims.claimTarget.text</th>\n",
       "      <td>Exposure to violent video games</td>\n",
       "    </tr>\n",
       "    <tr>\n",
       "      <th>claims.claimTarget.span.start</th>\n",
       "      <td>0</td>\n",
       "    </tr>\n",
       "    <tr>\n",
       "      <th>claims.claimTarget.span.end</th>\n",
       "      <td>31</td>\n",
       "    </tr>\n",
       "    <tr>\n",
       "      <th>claims.claimSentiment</th>\n",
       "      <td>-1</td>\n",
       "    </tr>\n",
       "    <tr>\n",
       "      <th>claims.targetsRelation</th>\n",
       "      <td>1</td>\n",
       "    </tr>\n",
       "  </tbody>\n",
       "</table>\n",
       "</div>"
      ],
      "text/plain": [
       "                                                                                0\n",
       "topicId                                                                         1\n",
       "split                                                                        test\n",
       "topicText                       This house believes that the sale of violent v...\n",
       "topicTarget                             the sale of violent video games to minors\n",
       "topicSentiment                                                                 -1\n",
       "claims.claimId                                                               2973\n",
       "claims.stance                                                                 PRO\n",
       "claims.claimCorrectedText       Exposure to violent video games causes at leas...\n",
       "claims.claimOriginalText        exposure to violent video games causes at leas...\n",
       "claims.article.rawFile                                      articles/t1/raw_1.txt\n",
       "claims.article.rawSpan.start                                                  490\n",
       "claims.article.rawSpan.end                                                    640\n",
       "claims.article.cleanFile                                  articles/t1/clean_1.txt\n",
       "claims.article.cleanSpan.start                                                418\n",
       "claims.article.cleanSpan.end                                                  568\n",
       "claims.Compatible                                                             yes\n",
       "claims.claimTarget.text                           Exposure to violent video games\n",
       "claims.claimTarget.span.start                                                   0\n",
       "claims.claimTarget.span.end                                                    31\n",
       "claims.claimSentiment                                                          -1\n",
       "claims.targetsRelation                                                          1"
      ]
     },
     "execution_count": 6,
     "metadata": {},
     "output_type": "execute_result"
    }
   ],
   "source": [
    "claimDF[:1].T"
   ]
  },
  {
   "cell_type": "code",
   "execution_count": null,
   "metadata": {
    "collapsed": true
   },
   "outputs": [],
   "source": [
    "# I've just realized that one sentence could contain more than one claims, \n",
    "# so I'll just tag it as 1 as long as it contains one claim"
   ]
  },
  {
   "cell_type": "code",
   "execution_count": 7,
   "metadata": {
    "collapsed": true
   },
   "outputs": [],
   "source": [
    "def textrank(sentences):\n",
    "#     sentence_tokenizer = PunktSentenceTokenizer()\n",
    "#     sentences = sentence_tokenizer.tokenize(document)\n",
    " \n",
    "    bow_matrix = CountVectorizer().fit_transform(sentences)\n",
    "    normalized = TfidfTransformer().fit_transform(bow_matrix)\n",
    " \n",
    "    similarity_graph = normalized * normalized.T\n",
    " \n",
    "    nx_graph = nx.from_scipy_sparse_matrix(similarity_graph)\n",
    "    scores = nx.pagerank(nx_graph)\n",
    "    \n",
    "    return dict((s, scores[i]) for i,s in enumerate(sentences))"
   ]
  },
  {
   "cell_type": "code",
   "execution_count": 8,
   "metadata": {
    "collapsed": false
   },
   "outputs": [],
   "source": [
    "articles_tags = []\n",
    "articles_sent_length = []\n",
    "sentences = []\n",
    "topics = []\n",
    "article_locs = []\n",
    "article_rank = []\n",
    "\n",
    "for a in article_paths:\n",
    "    article_name = a.split('/')[-1]\n",
    "    sents = articles[article_name]\n",
    "    rank_dict = textrank(sents)\n",
    "    claims = list(claimDF[claimDF['claims.article.cleanFile'] == a]['claims.claimOriginalText'])\n",
    "    topic = list(claimDF[claimDF['claims.article.cleanFile'] == a]['topicTarget'])[0]\n",
    "    tags = []\n",
    "    sent_length = []\n",
    "    locs = []\n",
    "    rank = []\n",
    "\n",
    "    for i, sent in enumerate(sents):\n",
    "        # get normalized location\n",
    "        locs.append(i+1/float(len(sents)))\n",
    "        \n",
    "        # get text rank score\n",
    "        r = rank_dict[sent]\n",
    "        rank.append(r)\n",
    "        \n",
    "        # get sent length\n",
    "        tokens = [a for a in sent.split() if a != '']\n",
    "        sent_length.append(len(tokens))\n",
    "        \n",
    "        topics.append(topic)\n",
    "        flag = False\n",
    "        for claim in claims:\n",
    "            if claim in sent:\n",
    "                tags.append(1)\n",
    "                claims.remove(claim)\n",
    "                flag = True\n",
    "                break\n",
    "        if not flag:\n",
    "            tags.append(0)  \n",
    "    \n",
    "    sentences.append(sents)\n",
    "    articles_tags.append(tags)\n",
    "    article_locs.append(locs)\n",
    "    articles_sent_length.append(sent_length)\n",
    "    article_rank.append(rank)"
   ]
  },
  {
   "cell_type": "code",
   "execution_count": 12,
   "metadata": {
    "collapsed": false,
    "scrolled": true
   },
   "outputs": [],
   "source": [
    "d = {'sentences': sum(sentences, []), \n",
    "     'topic': topics, \n",
    "     'length': sum(articles_sent_length, []), \n",
    "     'label': sum(articles_tags, []),\n",
    "    'loc': sum(article_locs, []),\n",
    "    'rank': sum(article_rank, [])}\n",
    "df = pd.DataFrame(d)"
   ]
  },
  {
   "cell_type": "code",
   "execution_count": 10,
   "metadata": {
    "collapsed": false
   },
   "outputs": [],
   "source": [
    "data = list(zip(sum(sentences, []), topics,\\\n",
    "           sum(articles_sent_length, []), sum(articles_tags, []), \\\n",
    "           sum(article_locs, []),sum(article_locs, [])))\n",
    "\n",
    "# sentence, topic, length, label, loc, rank"
   ]
  },
  {
   "cell_type": "markdown",
   "metadata": {
    "collapsed": true
   },
   "source": [
    "# 2.  Feature Engineeing\n",
    "\n",
    "- Mean embedding of the sentence\n",
    "- similarity between sentence and topic (cosine similarity )\n",
    "- length of the sentence\n",
    "- index of the sentence in the article\n",
    "\n",
    "## Train word embeddings with Word2Vec"
   ]
  },
  {
   "cell_type": "code",
   "execution_count": 15,
   "metadata": {
    "collapsed": true
   },
   "outputs": [],
   "source": [
    "def get_word2vec(sentences, location):\n",
    "    \"\"\"Returns trained word2vec\n",
    "    \n",
    "    Args:\n",
    "        sentences: iterator for sentences\n",
    "        \n",
    "        location (str): Path to save/load word2vec\n",
    "    \"\"\"\n",
    "    if os.path.exists(location):\n",
    "        print('Found {}'.format(location))\n",
    "        model = gensim.models.Word2Vec.load(location)\n",
    "        return model\n",
    "    \n",
    "    print('{} not found. training model'.format(location))\n",
    "    model = gensim.models.Word2Vec(sentences, size=100, window=5, min_count=5, workers=4)\n",
    "    print('Model done training. Saving to disk')\n",
    "    model.save(location)\n",
    "    return model\n",
    "\n",
    "class MeanEmbeddingVectorizer(object):\n",
    "    def __init__(self, word2vec):\n",
    "        self.word2vec = word2vec\n",
    "        # if a text is empty we should return a vector of zeros\n",
    "        # with the same dimensionality as all the other vectors\n",
    "        self.dim = len(word2vec.wv.syn0[0])\n",
    "\n",
    "    def fit(self, X, y=None):\n",
    "        return self\n",
    "\n",
    "    def transform(self, X):\n",
    "#         X = MyTokenizer().fit_transform(X)\n",
    "\n",
    "        X = X.split(' ')\n",
    "        emb = []\n",
    "        for word in X:\n",
    "            if word in self.word2vec.wv:\n",
    "                emb.append(self.word2vec.wv[word])\n",
    "            else:\n",
    "                emb.append(np.zeros(self.dim))\n",
    "        return np.mean(emb, axis = 0) #.reshape(1, 100)[0]\n",
    "        \n",
    "    \n",
    "    def fit_transform(self, X, y=None):\n",
    "        return self.transform(X)"
   ]
  },
  {
   "cell_type": "code",
   "execution_count": 16,
   "metadata": {
    "collapsed": false
   },
   "outputs": [
    {
     "name": "stdout",
     "output_type": "stream",
     "text": [
      "Found w2vmodel\n"
     ]
    }
   ],
   "source": [
    "x = []\n",
    "w2vec = get_word2vec(x, 'w2vmodel')     #note, model is trained in 2_data_cleaning_word2vec script"
   ]
  },
  {
   "cell_type": "code",
   "execution_count": 17,
   "metadata": {
    "collapsed": false
   },
   "outputs": [],
   "source": [
    "mean_embedding_vectorizer = MeanEmbeddingVectorizer(w2vec)"
   ]
  },
  {
   "cell_type": "markdown",
   "metadata": {},
   "source": [
    "## Prepare data for training/testing"
   ]
  },
  {
   "cell_type": "code",
   "execution_count": 18,
   "metadata": {
    "collapsed": true
   },
   "outputs": [],
   "source": [
    "def flatten(L):\n",
    "    for item in L:\n",
    "        try:\n",
    "            yield from flatten(item)\n",
    "        except TypeError:\n",
    "            yield item"
   ]
  },
  {
   "cell_type": "code",
   "execution_count": 31,
   "metadata": {
    "collapsed": false
   },
   "outputs": [],
   "source": [
    "def prepare_data(tmp, mean_embedding_vectorizer = mean_embedding_vectorizer):\n",
    "    tmp['embed_sent'] = tmp['sentences'].apply(lambda x: mean_embedding_vectorizer.transform(x))\n",
    "    tmp['embed_t']= tmp['topic'].apply(lambda x: mean_embedding_vectorizer.transform(x))\n",
    "    tmp['similarity'] = tmp.apply(lambda x: cosine_similarity(x['embed_t'].reshape(1, -1),\\\n",
    "                                                              x['embed_sent'].reshape(1, -1))[0][0],1)\n",
    "    tmp_y = list(tmp['label'])\n",
    "    y = np.zeros((len(tmp_y), 2))\n",
    "    for i, a in enumerate(tmp_y):\n",
    "        y[i][a] = 1\n",
    "    \n",
    "    \n",
    "    col = ['embed_sent', 'similarity', 'loc', 'length','rank']\n",
    "    X = tmp[col].apply(lambda x: list(flatten(x)),1)\n",
    "    X = np.array(list(X))\n",
    "    \n",
    "    return (X, y)"
   ]
  },
  {
   "cell_type": "markdown",
   "metadata": {},
   "source": [
    "### Wait, wait! Notice that the number of real claims are way way way less?\n",
    "### Let's upsample that class first"
   ]
  },
  {
   "cell_type": "code",
   "execution_count": 20,
   "metadata": {
    "collapsed": true
   },
   "outputs": [],
   "source": [
    "from sklearn.utils import resample"
   ]
  },
  {
   "cell_type": "code",
   "execution_count": 244,
   "metadata": {
    "collapsed": true
   },
   "outputs": [],
   "source": []
  },
  {
   "cell_type": "code",
   "execution_count": 32,
   "metadata": {
    "collapsed": false
   },
   "outputs": [],
   "source": [
    "# Separate majority and minority classes\n",
    "df_majority = df[df.label==0]\n",
    "df_minority = df[df.label==1]"
   ]
  },
  {
   "cell_type": "code",
   "execution_count": 42,
   "metadata": {
    "collapsed": false
   },
   "outputs": [
    {
     "data": {
      "text/plain": [
       "88273"
      ]
     },
     "execution_count": 42,
     "metadata": {},
     "output_type": "execute_result"
    }
   ],
   "source": [
    "len(df_majority)"
   ]
  },
  {
   "cell_type": "code",
   "execution_count": 43,
   "metadata": {
    "collapsed": false
   },
   "outputs": [
    {
     "data": {
      "text/plain": [
       "2223"
      ]
     },
     "execution_count": 43,
     "metadata": {},
     "output_type": "execute_result"
    }
   ],
   "source": [
    "len(df_minority)"
   ]
  },
  {
   "cell_type": "code",
   "execution_count": 33,
   "metadata": {
    "collapsed": false
   },
   "outputs": [],
   "source": [
    "NUMBER_PER_CLASS = 3500\n",
    "# Upsample minority class\n",
    "df_minority_upsampled = resample(df_minority, \n",
    "                                 replace=True,     # sample with replacement\n",
    "                                 n_samples=NUMBER_PER_CLASS,    # to match majority class\n",
    "                                 random_state=123) # reproducible results\n",
    "\n",
    "df_majority_downsampled = df_majority.sample(NUMBER_PER_CLASS)\n",
    "\n",
    "\n",
    "# Combine majority class with upsampled minority class\n",
    "df_upsampled = pd.concat([df_majority_downsampled, df_minority_upsampled])"
   ]
  },
  {
   "cell_type": "code",
   "execution_count": 34,
   "metadata": {
    "collapsed": false
   },
   "outputs": [],
   "source": [
    "train, test = train_test_split(df_upsampled, test_size=0.2)"
   ]
  },
  {
   "cell_type": "code",
   "execution_count": 36,
   "metadata": {
    "collapsed": false
   },
   "outputs": [],
   "source": [
    "train_X, train_y = prepare_data(train)\n",
    "test_X, test_y = prepare_data(test)"
   ]
  },
  {
   "cell_type": "code",
   "execution_count": 37,
   "metadata": {
    "collapsed": false
   },
   "outputs": [
    {
     "data": {
      "text/plain": [
       "(5600, 104)"
      ]
     },
     "execution_count": 37,
     "metadata": {},
     "output_type": "execute_result"
    }
   ],
   "source": [
    "train_X.shape"
   ]
  },
  {
   "cell_type": "markdown",
   "metadata": {
    "collapsed": true
   },
   "source": [
    "# 3. Models\n",
    "\n",
    "## Model 1: Feedforward neural network"
   ]
  },
  {
   "cell_type": "code",
   "execution_count": 276,
   "metadata": {
    "collapsed": false
   },
   "outputs": [],
   "source": [
    "# path = os.getcwd()\n",
    "# callbacks = [\n",
    "#     EarlyStopping(monitor='val_acc', patience=0, min_delta=0.01, verbose=100, mode='auto'),\n",
    "#     ModelCheckpoint(filepath = path, monitor='val_acc', verbose=0, \\\n",
    "#                                     save_best_only= True, save_weights_only=False, mode='max', period=1),]"
   ]
  },
  {
   "cell_type": "code",
   "execution_count": 26,
   "metadata": {
    "collapsed": true
   },
   "outputs": [],
   "source": [
    "def model_evaluation(model, test_X, test):\n",
    "    res = model.predict(test_X)\n",
    "    pred = res.argmax(1)\n",
    "    y = list(test['label'])\n",
    "    skplt.metrics.plot_confusion_matrix(y, pred)"
   ]
  },
  {
   "cell_type": "code",
   "execution_count": 38,
   "metadata": {
    "collapsed": false
   },
   "outputs": [],
   "source": [
    "def wrapper(name = 'm', w = 1, n_hidden = 1, layer_width = 128, activ_func = 'tanh', input_dim = 104):\n",
    "    \n",
    "    path =  name\n",
    "    callbacks = [\n",
    "    EarlyStopping(monitor='val_acc', patience=0, min_delta=0.01, verbose=100, mode='auto'),\n",
    "    ModelCheckpoint(filepath = path, monitor='val_acc', verbose=0, \\\n",
    "                                    save_best_only= True, save_weights_only=False, mode='max', period=1),]\n",
    "    \n",
    "    model = Sequential() \n",
    "    \n",
    "    if activ_func == 'identity':\n",
    "        activ_func = None\n",
    "    \n",
    "    # set number of hidden layer\n",
    "    for i in range(n_hidden):\n",
    "        model.add(Dense(units= layer_width, activation= activ_func, input_dim= input_dim)) \n",
    "    \n",
    "    # make sure input_dim is initiated if there's no hidden layer\n",
    "    if n_hidden == 0:\n",
    "        input_dim = input_dim\n",
    "    else:\n",
    "        input_dim = layer_width\n",
    "        \n",
    "    model.add(Dense(2, activation='softmax', input_dim = input_dim)) \n",
    "    model.compile(loss='categorical_crossentropy', optimizer='sgd', metrics=['accuracy'])\n",
    "    history = model.fit(train_X, train_y, batch_size=32, epochs=50, verbose=0,\\\n",
    "        callbacks=callbacks) \n",
    "\n",
    "    score = model.evaluate(test_X, test_y, verbose= 0)\n",
    "    print('Accuracy on test:', score[1])\n",
    "#     model_evaluation(model, test_X, test)\n",
    "    return (model,score[1])"
   ]
  },
  {
   "cell_type": "code",
   "execution_count": 39,
   "metadata": {
    "collapsed": false
   },
   "outputs": [
    {
     "name": "stdout",
     "output_type": "stream",
     "text": [
      "Accuracy on test: 0.667142857483\n"
     ]
    }
   ],
   "source": [
    "name = 'nn_default.h5'\n",
    "m = wrapper(name)\n",
    "# model = load_model('my_model.h5')"
   ]
  },
  {
   "cell_type": "code",
   "execution_count": 40,
   "metadata": {
    "collapsed": false
   },
   "outputs": [
    {
     "name": "stdout",
     "output_type": "stream",
     "text": [
      "Number of hidden layers: 1\n",
      "Layer width: 256\n",
      "Activation function: identity\n",
      "Accuracy on test: 0.64500000017\n",
      "----------------------------\n",
      "Number of hidden layers: 1\n",
      "Layer width: 256\n",
      "Activation function: tanh\n",
      "Accuracy on test: 0.677142857143\n",
      "----------------------------\n",
      "Number of hidden layers: 1\n",
      "Layer width: 256\n",
      "Activation function: relu\n",
      "Accuracy on test: 0.571428571088\n",
      "----------------------------\n",
      "Number of hidden layers: 1\n",
      "Layer width: 256\n",
      "Activation function: sigmoid\n",
      "Accuracy on test: 0.645714285714\n",
      "----------------------------\n",
      "Number of hidden layers: 1\n",
      "Layer width: 512\n",
      "Activation function: identity\n",
      "Accuracy on test: 0.660714285714\n",
      "----------------------------\n",
      "Number of hidden layers: 1\n",
      "Layer width: 512\n",
      "Activation function: tanh\n",
      "Accuracy on test: 0.680714286055\n",
      "----------------------------\n",
      "Number of hidden layers: 1\n",
      "Layer width: 512\n",
      "Activation function: relu\n",
      "Accuracy on test: 0.597857142857\n",
      "----------------------------\n",
      "Number of hidden layers: 1\n",
      "Layer width: 512\n",
      "Activation function: sigmoid\n",
      "Accuracy on test: 0.715000000341\n",
      "----------------------------\n",
      "Number of hidden layers: 1\n",
      "Layer width: 1024\n",
      "Activation function: identity\n",
      "Accuracy on test: 0.669999999659\n",
      "----------------------------\n",
      "Number of hidden layers: 1\n",
      "Layer width: 1024\n",
      "Activation function: tanh\n",
      "Accuracy on test: 0.655714285374\n",
      "----------------------------\n",
      "Number of hidden layers: 1\n",
      "Layer width: 1024\n",
      "Activation function: relu\n",
      "Accuracy on test: 0.571428571429\n",
      "----------------------------\n",
      "Number of hidden layers: 1\n",
      "Layer width: 1024\n",
      "Activation function: sigmoid\n",
      "Accuracy on test: 0.673571428401\n",
      "----------------------------\n",
      "Number of hidden layers: 2\n",
      "Layer width: 256\n",
      "Activation function: identity\n",
      "Accuracy on test: 0.671428571088\n",
      "----------------------------\n",
      "Number of hidden layers: 2\n",
      "Layer width: 256\n",
      "Activation function: tanh\n",
      "Accuracy on test: 0.676428571429\n",
      "----------------------------\n",
      "Number of hidden layers: 2\n",
      "Layer width: 256\n",
      "Activation function: relu\n",
      "Accuracy on test: 0.657142857143\n",
      "----------------------------\n",
      "Number of hidden layers: 2\n",
      "Layer width: 256\n",
      "Activation function: sigmoid\n",
      "Accuracy on test: 0.667142857143\n",
      "----------------------------\n",
      "Number of hidden layers: 2\n",
      "Layer width: 512\n",
      "Activation function: identity\n",
      "Accuracy on test: 0.662142857483\n",
      "----------------------------\n",
      "Number of hidden layers: 2\n",
      "Layer width: 512\n",
      "Activation function: tanh\n",
      "Accuracy on test: 0.693571428912\n",
      "----------------------------\n",
      "Number of hidden layers: 2\n",
      "Layer width: 512\n",
      "Activation function: relu\n",
      "Accuracy on test: 0.711428571429\n",
      "----------------------------\n",
      "Number of hidden layers: 2\n",
      "Layer width: 512\n",
      "Activation function: sigmoid\n",
      "Accuracy on test: 0.660000000341\n",
      "----------------------------\n",
      "Number of hidden layers: 2\n",
      "Layer width: 1024\n",
      "Activation function: identity\n",
      "Accuracy on test: 0.698571428571\n",
      "----------------------------\n",
      "Number of hidden layers: 2\n",
      "Layer width: 1024\n",
      "Activation function: tanh\n",
      "Accuracy on test: 0.696428571429\n",
      "----------------------------\n",
      "Number of hidden layers: 2\n",
      "Layer width: 1024\n",
      "Activation function: relu\n",
      "Accuracy on test: 0.668571428912\n",
      "----------------------------\n",
      "Number of hidden layers: 2\n",
      "Layer width: 1024\n",
      "Activation function: sigmoid\n",
      "Accuracy on test: 0.702857142517\n",
      "----------------------------\n",
      "Number of hidden layers: 3\n",
      "Layer width: 256\n",
      "Activation function: identity\n",
      "Accuracy on test: 0.695714285374\n",
      "----------------------------\n",
      "Number of hidden layers: 3\n",
      "Layer width: 256\n",
      "Activation function: tanh\n",
      "Accuracy on test: 0.669285714626\n",
      "----------------------------\n",
      "Number of hidden layers: 3\n",
      "Layer width: 256\n",
      "Activation function: relu\n",
      "Accuracy on test: 0.697857142857\n",
      "----------------------------\n",
      "Number of hidden layers: 3\n",
      "Layer width: 256\n",
      "Activation function: sigmoid\n",
      "Accuracy on test: 0.661428571088\n",
      "----------------------------\n",
      "Number of hidden layers: 3\n",
      "Layer width: 512\n",
      "Activation function: identity\n",
      "Accuracy on test: 0.522857142687\n",
      "----------------------------\n",
      "Number of hidden layers: 3\n",
      "Layer width: 512\n",
      "Activation function: tanh\n",
      "Accuracy on test: 0.672857142857\n",
      "----------------------------\n",
      "Number of hidden layers: 3\n",
      "Layer width: 512\n",
      "Activation function: relu\n",
      "Accuracy on test: 0.692857142857\n",
      "----------------------------\n",
      "Number of hidden layers: 3\n",
      "Layer width: 512\n",
      "Activation function: sigmoid\n",
      "Accuracy on test: 0.65\n",
      "----------------------------\n",
      "Number of hidden layers: 3\n",
      "Layer width: 1024\n",
      "Activation function: identity\n",
      "Accuracy on test: 0.686428571088\n",
      "----------------------------\n",
      "Number of hidden layers: 3\n",
      "Layer width: 1024\n",
      "Activation function: tanh\n",
      "Accuracy on test: 0.697142857143\n",
      "----------------------------\n",
      "Number of hidden layers: 3\n",
      "Layer width: 1024\n",
      "Activation function: relu\n",
      "Accuracy on test: 0.570714285714\n",
      "----------------------------\n",
      "Number of hidden layers: 3\n",
      "Layer width: 1024\n",
      "Activation function: sigmoid\n",
      "Accuracy on test: 0.651428571429\n",
      "----------------------------\n"
     ]
    }
   ],
   "source": [
    "model_list = []\n",
    "acc_list = []\n",
    "for n_hidden in range(1,4):\n",
    "    for i in [256,512, 1024]:\n",
    "        for f in ['identity', 'tanh', 'relu', 'sigmoid']:\n",
    "            print('Number of hidden layers:', n_hidden)\n",
    "            print('Layer width:', i)\n",
    "            print('Activation function:', f)\n",
    "            \n",
    "            m, s = wrapper(n_hidden = n_hidden, layer_width = i, activ_func = f)\n",
    "            model_list.append(m)\n",
    "            acc_list.append(s)\n",
    "            print('-'*28)"
   ]
  },
  {
   "cell_type": "code",
   "execution_count": 41,
   "metadata": {
    "collapsed": false
   },
   "outputs": [
    {
     "name": "stdout",
     "output_type": "stream",
     "text": [
      "Accuracy on test: 0.715000000341\n"
     ]
    },
    {
     "data": {
      "image/png": "[encoded data removed]",
      "text/plain": [
       "<matplotlib.figure.Figure at 0x179263eb8>"
      ]
     },
     "metadata": {},
     "output_type": "display_data"
    }
   ],
   "source": [
    "best_model = model_list[acc_list.index(max(acc_list))]\n",
    "score = best_model.evaluate(test_X, test_y, verbose= 0)\n",
    "print('Accuracy on test:', score[1])\n",
    "model_evaluation(best_model, test_X, test)"
   ]
  },
  {
   "cell_type": "code",
   "execution_count": null,
   "metadata": {
    "collapsed": true
   },
   "outputs": [],
   "source": [
    "score[0]"
   ]
  },
  {
   "cell_type": "markdown",
   "metadata": {},
   "source": [
    "## Model 2: LSTM"
   ]
  },
  {
   "cell_type": "code",
   "execution_count": 45,
   "metadata": {
    "collapsed": false
   },
   "outputs": [],
   "source": [
    "train_X_ = np.expand_dims(train_X, axis=1)\n",
    "test_X_ = np.expand_dims(test_X, axis=1)"
   ]
  },
  {
   "cell_type": "code",
   "execution_count": 44,
   "metadata": {
    "collapsed": true
   },
   "outputs": [],
   "source": [
    "def wrapper_lstm(name = 'm', w = 1, n_hidden = 1, layer_width = 128, activ_func = 'tanh', input_dim = 104):\n",
    "    \n",
    "    path =  name\n",
    "    callbacks = [\n",
    "    EarlyStopping(monitor='val_acc', patience=0, min_delta=0.01, verbose=100, mode='auto'),\n",
    "    ModelCheckpoint(filepath = path, monitor='val_acc', verbose=0, \\\n",
    "                                    save_best_only= True, save_weights_only=False, mode='max', period=1),]\n",
    "    \n",
    "    model = Sequential() \n",
    "    \n",
    "    if activ_func == 'identity':\n",
    "        activ_func = None\n",
    "        \n",
    "    model.add(LSTM(layer_width, input_dim=input_dim))\n",
    "    # set number of hidden layer\n",
    "    for i in range(n_hidden):\n",
    "        model.add(Dense(units= layer_width, activation= activ_func, input_dim= input_dim)) \n",
    "        \n",
    "    # make sure input_dim is initiated if there's no hidden layer\n",
    "    if n_hidden == 0:\n",
    "        input_dim = input_dim\n",
    "    else:\n",
    "        input_dim = layer_width\n",
    "        \n",
    "    model.add(Dense(2, activation='softmax', input_dim = input_dim)) \n",
    "    model.compile(loss='categorical_crossentropy', optimizer='sgd', metrics=['accuracy'])\n",
    "    history = model.fit(train_X_, train_y, batch_size=32, epochs=50, verbose=0,\\\n",
    "        callbacks=callbacks) \n",
    "\n",
    "    score = model.evaluate(test_X_, test_y, verbose= 0)\n",
    "    print('Accuracy on test:', score[1])\n",
    "#     model_evaluation(model, test_X, test)\n",
    "    return (model,score[1])"
   ]
  },
  {
   "cell_type": "code",
   "execution_count": null,
   "metadata": {
    "collapsed": true
   },
   "outputs": [],
   "source": [
    "model_list = []\n",
    "acc_list = []\n",
    "for n_hidden in range(1,3):\n",
    "    for i in [128,256,512, 1024]:\n",
    "        for f in ['identity', 'tanh', 'relu', 'sigmoid']:\n",
    "            print('Number of hidden layers:', n_hidden)\n",
    "            print('Layer width:', i)\n",
    "            print('Activation function:', f)\n",
    "            \n",
    "            m, s = wrapper_lstm(n_hidden = n_hidden, layer_width = i, activ_func = f)\n",
    "            model_list.append(m)\n",
    "            acc_list.append(s)\n",
    "            print('-'*28)"
   ]
  },
  {
   "cell_type": "code",
   "execution_count": 57,
   "metadata": {
    "collapsed": true
   },
   "outputs": [],
   "source": [
    "lstm_model = model_list[acc_list.index(max(acc_list))]"
   ]
  },
  {
   "cell_type": "code",
   "execution_count": 58,
   "metadata": {
    "collapsed": false
   },
   "outputs": [
    {
     "name": "stdout",
     "output_type": "stream",
     "text": [
      "Accuracy on test: 0.715\n"
     ]
    },
    {
     "data": {
      "image/png": "[encoded data removed]",
      "text/plain": [
       "<matplotlib.figure.Figure at 0x178741358>"
      ]
     },
     "metadata": {},
     "output_type": "display_data"
    }
   ],
   "source": [
    "lstm_score = lstm_model.evaluate(test_X_, test_y, verbose= 0)\n",
    "print('Accuracy on test:', lstm_score[1])\n",
    "model_evaluation(lstm_model, test_X_, test)"
   ]
  },
  {
   "cell_type": "code",
   "execution_count": 60,
   "metadata": {
    "collapsed": false
   },
   "outputs": [
    {
     "data": {
      "text/plain": [
       "[0.57730430330548965, 0.71499999999999997]"
      ]
     },
     "execution_count": 60,
     "metadata": {},
     "output_type": "execute_result"
    }
   ],
   "source": [
    "lstm_score"
   ]
  },
  {
   "cell_type": "code",
   "execution_count": null,
   "metadata": {
    "collapsed": true
   },
   "outputs": [],
   "source": []
  }
 ],
 "metadata": {
  "kernelspec": {
   "display_name": "Python 3",
   "language": "python",
   "name": "python3"
  },
  "language_info": {
   "codemirror_mode": {
    "name": "ipython",
    "version": 3
   },
   "file_extension": ".py",
   "mimetype": "text/x-python",
   "name": "python",
   "nbconvert_exporter": "python",
   "pygments_lexer": "ipython3",
   "version": "3.5.2"
  }
 },
 "nbformat": 4,
 "nbformat_minor": 0
}
