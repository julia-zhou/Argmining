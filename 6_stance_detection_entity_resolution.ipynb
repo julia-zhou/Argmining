{
 "cells": [
  {
   "cell_type": "code",
   "execution_count": 1,
   "metadata": {},
   "outputs": [],
   "source": [
    "## research question\n",
    "## Given a claim and a topic, can we figure out if the claim is for or against the topic?\n",
    "\n",
    "import numpy as np\n",
    "import pandas as pd\n",
    "import string\n",
    "import nltk\n",
    "from sklearn.linear_model import LogisticRegression\n",
    "from utils import MyTokenizer, MySentences, MeanEmbeddingVectorizer, evaluate_train\n",
    "import warnings\n",
    "warnings.filterwarnings(\"ignore\")"
   ]
  },
  {
   "cell_type": "code",
   "execution_count": 2,
   "metadata": {},
   "outputs": [],
   "source": [
    "claimDF = pd.read_csv(\"IBM_EACL-2017.v1/claim_stance_dataset_v1.csv\")"
   ]
  },
  {
   "cell_type": "code",
   "execution_count": 3,
   "metadata": {},
   "outputs": [],
   "source": [
    "# 2394\n",
    "# create dataset\n",
    "test = claimDF[['claims.stance', 'claims.claimCorrectedText', 'topicSentiment']]"
   ]
  },
  {
   "cell_type": "code",
   "execution_count": 4,
   "metadata": {},
   "outputs": [],
   "source": [
    "from nltk.classify import NaiveBayesClassifier\n",
    "from nltk.corpus import subjectivity\n",
    "from nltk.sentiment import SentimentAnalyzer\n",
    "from nltk.sentiment.util import *\n",
    "from nltk.sentiment.vader import SentimentIntensityAnalyzer"
   ]
  },
  {
   "cell_type": "code",
   "execution_count": 5,
   "metadata": {},
   "outputs": [],
   "source": [
    "sid = SentimentIntensityAnalyzer()\n",
    "ss = sid.polarity_scores(\"HI BEN\")"
   ]
  },
  {
   "cell_type": "code",
   "execution_count": 6,
   "metadata": {},
   "outputs": [
    {
     "name": "stdout",
     "output_type": "stream",
     "text": [
      "{'neg': 0.0, 'neu': 1.0, 'pos': 0.0, 'compound': 0.0}\n"
     ]
    }
   ],
   "source": [
    "print ss"
   ]
  },
  {
   "cell_type": "code",
   "execution_count": 7,
   "metadata": {},
   "outputs": [],
   "source": [
    "mean_embedding_vectorizer = MeanEmbeddingVectorizer(None)\n",
    "\n",
    "test['claim_token'] = test['claims.claimCorrectedText'].apply(lambda x: nltk.word_tokenize(x.lower()))\n",
    "test['claim_sentiment_compound']  = test['claim_token'].apply(lambda x: sid.polarity_scores(\" \".join(x))['compound'])\n",
    "test['claim_sentiment_neg']  = test['claim_token'].apply(lambda x: sid.polarity_scores(\" \".join(x))['neg'])\n",
    "test['claim_sentiment_neu']  = test['claim_token'].apply(lambda x: sid.polarity_scores(\" \".join(x))['neu'])\n",
    "test['claim_sentiment_pos']  = test['claim_token'].apply(lambda x: sid.polarity_scores(\" \".join(x))['pos'])\n",
    "\n",
    "# test['topic_token'] = test['topicText'].apply(lambda x: nltk.word_tokenize(x.lower()))\n",
    "# test['topic_sentiment_compound']  = test['topic_token'].apply(lambda x: sid.polarity_scores(\" \".join(x))['compound'])\n",
    "# test['topic_sentiment_neg']  = test['topic_token'].apply(lambda x: sid.polarity_scores(\" \".join(x))['neg'])\n",
    "# test['topic_sentiment_neu']  = test['topic_token'].apply(lambda x: sid.polarity_scores(\" \".join(x))['neu'])\n",
    "# test['topic_sentiment_pos']  = test['topic_token'].apply(lambda x: sid.polarity_scores(\" \".join(x))['pos'])\n",
    "# \n",
    "test['stance'] = test['claims.stance'].apply(lambda x: 0 if x == 'PRO' else 1)"
   ]
  },
  {
   "cell_type": "code",
   "execution_count": 8,
   "metadata": {},
   "outputs": [],
   "source": [
    "test['final_embedding'] = test.apply(lambda x: [\n",
    "    x['claim_sentiment_compound'],\n",
    "    x['claim_sentiment_neg'],\n",
    "    x['claim_sentiment_neu'],\n",
    "    x['claim_sentiment_pos'],\n",
    "    x['topicSentiment'],\n",
    "], axis=1)\n"
   ]
  },
  {
   "cell_type": "code",
   "execution_count": 9,
   "metadata": {},
   "outputs": [
    {
     "name": "stdout",
     "output_type": "stream",
     "text": [
      "Train Log loss: 0.698119211405\n",
      "Train Accuracy: 0.527568922306\n"
     ]
    },
    {
     "name": "stderr",
     "output_type": "stream",
     "text": [
      "[Parallel(n_jobs=1)]: Done   1 out of   1 | elapsed:    0.0s remaining:    0.0s\n",
      "[Parallel(n_jobs=1)]: Done   3 out of   3 | elapsed:    0.0s finished\n"
     ]
    },
    {
     "data": {
      "text/plain": [
       "LogisticRegression(C=1.0, class_weight=None, dual=False, fit_intercept=True,\n",
       "          intercept_scaling=1, max_iter=100, multi_class='ovr', n_jobs=1,\n",
       "          penalty='l2', random_state=None, solver='liblinear', tol=0.0001,\n",
       "          verbose=0, warm_start=False)"
      ]
     },
     "execution_count": 9,
     "metadata": {},
     "output_type": "execute_result"
    },
    {
     "data": {
      "image/png": "[encoded data removed]",
      "text/plain": [
       "<Figure size 432x288 with 2 Axes>"
      ]
     },
     "metadata": {},
     "output_type": "display_data"
    }
   ],
   "source": [
    "from sklearn.model_selection import cross_val_predict\n",
    "from sklearn.model_selection import StratifiedKFold\n",
    "\n",
    "X = np.vstack(test['final_embedding'].as_matrix())\n",
    "y = test['stance'].values.ravel()\n",
    "\n",
    "evaluate_train(X, y, LogisticRegression())"
   ]
  },
  {
   "cell_type": "code",
   "execution_count": 11,
   "metadata": {},
   "outputs": [
    {
     "data": {
      "text/plain": [
       "0         [-0.7184, 0.29, 0.629, 0.08, -1]\n",
       "1       [-0.6681, 0.337, 0.591, 0.072, -1]\n",
       "2         [-0.5994, 0.262, 0.738, 0.0, -1]\n",
       "3         [-0.7269, 0.243, 0.757, 0.0, -1]\n",
       "4       [-0.7579, 0.484, 0.373, 0.143, -1]\n",
       "5         [-0.7269, 0.379, 0.621, 0.0, -1]\n",
       "6       [-0.0258, 0.197, 0.573, 0.229, -1]\n",
       "7         [-0.719, 0.26, 0.651, 0.089, -1]\n",
       "8       [-0.4939, 0.278, 0.606, 0.116, -1]\n",
       "9       [-0.1779, 0.155, 0.677, 0.167, -1]\n",
       "10      [-0.9231, 0.544, 0.386, 0.069, -1]\n",
       "11        [-0.6997, 0.367, 0.633, 0.0, -1]\n",
       "12        [-0.7269, 0.379, 0.621, 0.0, -1]\n",
       "13        [-0.7351, 0.323, 0.677, 0.0, -1]\n",
       "14           [0.34, 0.0, 0.833, 0.167, -1]\n",
       "15          [-0.8271, 0.42, 0.58, 0.0, -1]\n",
       "16        [-0.5994, 0.231, 0.769, 0.0, -1]\n",
       "17      [-0.7351, 0.372, 0.532, 0.096, -1]\n",
       "18      [-0.5859, 0.455, 0.373, 0.172, -1]\n",
       "19        [-0.6908, 0.341, 0.659, 0.0, -1]\n",
       "20       [-0.8126, 0.424, 0.466, 0.11, -1]\n",
       "21          [-0.8555, 0.42, 0.58, 0.0, -1]\n",
       "22       [-0.5719, 0.271, 0.64, 0.089, -1]\n",
       "23        [-0.7269, 0.337, 0.663, 0.0, -1]\n",
       "24         [0.4767, 0.0, 0.659, 0.341, -1]\n",
       "25      [-0.7351, 0.536, 0.301, 0.163, -1]\n",
       "26       [-0.128, 0.293, 0.451, 0.256, -1]\n",
       "27         [0.5106, 0.0, 0.809, 0.191, -1]\n",
       "28       [0.3599, 0.126, 0.648, 0.227, -1]\n",
       "29          [0.743, 0.0, 0.488, 0.512, -1]\n",
       "                       ...                \n",
       "2364        [0.5423, 0.0, 0.462, 0.538, 1]\n",
       "2365       [-0.5719, 0.552, 0.448, 0.0, 1]\n",
       "2366        [-0.836, 0.331, 0.669, 0.0, 1]\n",
       "2367       [0.765, 0.112, 0.426, 0.463, 1]\n",
       "2368        [0.5267, 0.0, 0.638, 0.362, 1]\n",
       "2369       [-0.3612, 0.212, 0.788, 0.0, 1]\n",
       "2370         [-0.6637, 0.33, 0.67, 0.0, 1]\n",
       "2371       [-0.6908, 0.263, 0.737, 0.0, 1]\n",
       "2372               [0.0, 0.0, 1.0, 0.0, 1]\n",
       "2373               [0.0, 0.0, 1.0, 0.0, 1]\n",
       "2374         [-0.8598, 0.46, 0.54, 0.0, 1]\n",
       "2375         [-0.34, 0.255, 0.745, 0.0, 1]\n",
       "2376     [-0.1531, 0.224, 0.597, 0.179, 1]\n",
       "2377        [0.4404, 0.0, 0.734, 0.266, 1]\n",
       "2378               [0.0, 0.0, 1.0, 0.0, 1]\n",
       "2379        [0.6369, 0.0, 0.488, 0.512, 1]\n",
       "2380        [0.4404, 0.0, 0.756, 0.244, 1]\n",
       "2381               [0.0, 0.0, 1.0, 0.0, 1]\n",
       "2382        [0.7506, 0.0, 0.556, 0.444, 1]\n",
       "2383               [0.0, 0.0, 1.0, 0.0, 1]\n",
       "2384       [-0.5267, 0.239, 0.761, 0.0, 1]\n",
       "2385        [0.4404, 0.0, 0.847, 0.153, 1]\n",
       "2386               [0.0, 0.0, 1.0, 0.0, 1]\n",
       "2387        [0.4404, 0.0, 0.822, 0.178, 1]\n",
       "2388       [-0.4019, 0.403, 0.597, 0.0, 1]\n",
       "2389          [0.34, 0.0, 0.844, 0.156, 1]\n",
       "2390               [0.0, 0.0, 1.0, 0.0, 1]\n",
       "2391       [-0.6369, 0.342, 0.658, 0.0, 1]\n",
       "2392        [0.7506, 0.0, 0.556, 0.444, 1]\n",
       "2393        [0.0572, 0.0, 0.831, 0.169, 1]\n",
       "Name: final_embedding, Length: 2394, dtype: object"
      ]
     },
     "execution_count": 11,
     "metadata": {},
     "output_type": "execute_result"
    }
   ],
   "source": [
    "# from sklearn.metrics.pairwise import cosine_similarity\n",
    "# def cossim(row):\n",
    "#     #print row\n",
    "#     return [cosine_similarity(\n",
    "#         np.array([row['claim_sentiment_neg'], row['claim_sentiment_neu'], row['claim_sentiment_pos']]).reshape(1, -1), \n",
    "#         np.array([row['topic_sentiment_neg'], row['claim_sentiment_neu'], row['topic_sentiment_pos']]).reshape(1, -1))]\n",
    "    \n",
    "\n",
    "test['final_embedding']"
   ]
  },
  {
   "cell_type": "code",
   "execution_count": 12,
   "metadata": {},
   "outputs": [
    {
     "name": "stdout",
     "output_type": "stream",
     "text": [
      "Train Log loss: 0.698119211405\n",
      "Train Accuracy: 0.527568922306\n"
     ]
    },
    {
     "name": "stderr",
     "output_type": "stream",
     "text": [
      "[Parallel(n_jobs=1)]: Done   1 out of   1 | elapsed:    0.0s remaining:    0.0s\n",
      "[Parallel(n_jobs=1)]: Done   3 out of   3 | elapsed:    0.0s finished\n"
     ]
    },
    {
     "data": {
      "text/plain": [
       "LogisticRegression(C=1.0, class_weight=None, dual=False, fit_intercept=True,\n",
       "          intercept_scaling=1, max_iter=100, multi_class='ovr', n_jobs=1,\n",
       "          penalty='l2', random_state=None, solver='liblinear', tol=0.0001,\n",
       "          verbose=0, warm_start=False)"
      ]
     },
     "execution_count": 12,
     "metadata": {},
     "output_type": "execute_result"
    },
    {
     "data": {
      "image/png": "[encoded data removed]",
      "text/plain": [
       "<Figure size 432x288 with 2 Axes>"
      ]
     },
     "metadata": {},
     "output_type": "display_data"
    }
   ],
   "source": [
    "from sklearn.model_selection import cross_val_predict\n",
    "from sklearn.model_selection import StratifiedKFold\n",
    "\n",
    "X = np.vstack(test['final_embedding'].as_matrix())\n",
    "y = test['stance'].values.ravel()\n",
    "\n",
    "evaluate_train(X, y, LogisticRegression())"
   ]
  },
  {
   "cell_type": "code",
   "execution_count": 13,
   "metadata": {},
   "outputs": [
    {
     "name": "stderr",
     "output_type": "stream",
     "text": [
      "[Parallel(n_jobs=1)]: Done 1000 out of 1000 | elapsed:    1.0s finished\n",
      "[Parallel(n_jobs=1)]: Done 1000 out of 1000 | elapsed:    0.1s finished\n",
      "[Parallel(n_jobs=1)]: Done   1 out of   1 | elapsed:    4.9s remaining:    0.0s\n",
      "[Parallel(n_jobs=1)]: Done 1000 out of 1000 | elapsed:    1.0s finished\n",
      "[Parallel(n_jobs=1)]: Done 1000 out of 1000 | elapsed:    0.2s finished\n"
     ]
    },
    {
     "name": "stdout",
     "output_type": "stream",
     "text": [
      "Train Log loss: 0.678300326251\n",
      "Train Accuracy: 0.557226399332\n"
     ]
    },
    {
     "name": "stderr",
     "output_type": "stream",
     "text": [
      "[Parallel(n_jobs=1)]: Done 1000 out of 1000 | elapsed:    1.0s finished\n",
      "[Parallel(n_jobs=1)]: Done 1000 out of 1000 | elapsed:    0.1s finished\n",
      "[Parallel(n_jobs=1)]: Done   3 out of   3 | elapsed:   15.0s finished\n"
     ]
    },
    {
     "data": {
      "text/plain": [
       "RandomForestClassifier(bootstrap=True, class_weight=None, criterion='gini',\n",
       "            max_depth=5, max_features='auto', max_leaf_nodes=None,\n",
       "            min_impurity_decrease=0.0, min_impurity_split=None,\n",
       "            min_samples_leaf=1, min_samples_split=2,\n",
       "            min_weight_fraction_leaf=0.0, n_estimators=1000, n_jobs=1,\n",
       "            oob_score=False, random_state=None, verbose=1,\n",
       "            warm_start=False)"
      ]
     },
     "execution_count": 13,
     "metadata": {},
     "output_type": "execute_result"
    },
    {
     "data": {
      "image/png": "[encoded data removed]",
      "text/plain": [
       "<Figure size 432x288 with 2 Axes>"
      ]
     },
     "metadata": {},
     "output_type": "display_data"
    }
   ],
   "source": [
    "from sklearn.model_selection import cross_val_predict\n",
    "from sklearn.model_selection import StratifiedKFold\n",
    "from sklearn.ensemble import RandomForestClassifier\n",
    "\n",
    "X = np.vstack(test['final_embedding'].as_matrix())\n",
    "y = test['stance'].values.ravel()\n",
    "\n",
    "evaluate_train(X, y, RandomForestClassifier(n_estimators=1000, max_depth=5, verbose=1))"
   ]
  }
 ],
 "metadata": {
  "kernelspec": {
   "display_name": "Python 2",
   "language": "python",
   "name": "python2"
  },
  "language_info": {
   "codemirror_mode": {
    "name": "ipython",
    "version": 2
   },
   "file_extension": ".py",
   "mimetype": "text/x-python",
   "name": "python",
   "nbconvert_exporter": "python",
   "pygments_lexer": "ipython2",
   "version": "2.7.14"
  }
 },
 "nbformat": 4,
 "nbformat_minor": 2
}
