{
 "cells": [
  {
   "cell_type": "code",
   "execution_count": 1,
   "metadata": {},
   "outputs": [],
   "source": [
    "## research question\n",
    "## Given a claim and a topic, can we figure out if the claim is for or against the topic?\n",
    "\n",
    "import numpy as np\n",
    "import pandas as pd\n",
    "import string\n",
    "import nltk\n",
    "from sklearn.linear_model import LogisticRegression\n",
    "from utils import MyTokenizer, MySentences, MeanEmbeddingVectorizer, evaluate_train\n",
    "import warnings\n",
    "warnings.filterwarnings(\"ignore\")"
   ]
  },
  {
   "cell_type": "code",
   "execution_count": 2,
   "metadata": {},
   "outputs": [],
   "source": [
    "claimDF = pd.read_csv(\"IBM_EACL-2017.v1/claim_stance_dataset_v1.csv\")"
   ]
  },
  {
   "cell_type": "code",
   "execution_count": 3,
   "metadata": {},
   "outputs": [],
   "source": [
    "# 2394\n",
    "# create dataset\n",
    "test = claimDF[['claims.stance', 'claims.claimCorrectedText', 'topicText']]"
   ]
  },
  {
   "cell_type": "code",
   "execution_count": 4,
   "metadata": {},
   "outputs": [],
   "source": [
    "from nltk.classify import NaiveBayesClassifier\n",
    "from nltk.corpus import subjectivity\n",
    "from nltk.sentiment import SentimentAnalyzer\n",
    "from nltk.sentiment.util import *\n",
    "from nltk.sentiment.vader import SentimentIntensityAnalyzer"
   ]
  },
  {
   "cell_type": "code",
   "execution_count": 5,
   "metadata": {},
   "outputs": [],
   "source": [
    "sid = SentimentIntensityAnalyzer()\n",
    "ss = sid.polarity_scores(\"HI BEN\")"
   ]
  },
  {
   "cell_type": "code",
   "execution_count": 6,
   "metadata": {},
   "outputs": [
    {
     "name": "stdout",
     "output_type": "stream",
     "text": [
      "{'neg': 0.0, 'neu': 1.0, 'pos': 0.0, 'compound': 0.0}\n"
     ]
    }
   ],
   "source": [
    "print ss"
   ]
  },
  {
   "cell_type": "code",
   "execution_count": 7,
   "metadata": {},
   "outputs": [],
   "source": [
    "mean_embedding_vectorizer = MeanEmbeddingVectorizer(None)\n",
    "\n",
    "test['claim_token'] = test['claims.claimCorrectedText'].apply(lambda x: nltk.word_tokenize(x.lower()))\n",
    "test['claim_sentiment_compound']  = test['claim_token'].apply(lambda x: sid.polarity_scores(\" \".join(x))['compound'])\n",
    "test['claim_sentiment_neg']  = test['claim_token'].apply(lambda x: sid.polarity_scores(\" \".join(x))['neg'])\n",
    "test['claim_sentiment_neu']  = test['claim_token'].apply(lambda x: sid.polarity_scores(\" \".join(x))['neu'])\n",
    "test['claim_sentiment_pos']  = test['claim_token'].apply(lambda x: sid.polarity_scores(\" \".join(x))['pos'])\n",
    "\n",
    "test['topic_token'] = test['topicText'].apply(lambda x: nltk.word_tokenize(x.lower()))\n",
    "test['topic_sentiment_compound']  = test['topic_token'].apply(lambda x: sid.polarity_scores(\" \".join(x))['compound'])\n",
    "test['topic_sentiment_neg']  = test['topic_token'].apply(lambda x: sid.polarity_scores(\" \".join(x))['neg'])\n",
    "test['topic_sentiment_neu']  = test['topic_token'].apply(lambda x: sid.polarity_scores(\" \".join(x))['neu'])\n",
    "test['topic_sentiment_pos']  = test['topic_token'].apply(lambda x: sid.polarity_scores(\" \".join(x))['pos'])\n",
    "\n",
    "test['stance'] = test['claims.stance'].apply(lambda x: 0 if x == 'PRO' else 1)"
   ]
  },
  {
   "cell_type": "code",
   "execution_count": 8,
   "metadata": {},
   "outputs": [],
   "source": [
    "test['final_embedding'] = test.apply(lambda x: [\n",
    "    x['claim_sentiment_compound'],\n",
    "    x['claim_sentiment_neg'],\n",
    "    x['claim_sentiment_neu'],\n",
    "    x['claim_sentiment_pos'],\n",
    "    x['topic_sentiment_compound'],\n",
    "    x['topic_sentiment_neg'],\n",
    "    x['topic_sentiment_neu'],\n",
    "    x['topic_sentiment_pos'],\n",
    "], axis=1)\n"
   ]
  },
  {
   "cell_type": "code",
   "execution_count": 9,
   "metadata": {},
   "outputs": [
    {
     "name": "stdout",
     "output_type": "stream",
     "text": [
      "Train Log loss: 0.708648592192\n",
      "Train Accuracy: 0.499164578112\n"
     ]
    },
    {
     "name": "stderr",
     "output_type": "stream",
     "text": [
      "[Parallel(n_jobs=1)]: Done   1 out of   1 | elapsed:    0.0s remaining:    0.0s\n",
      "[Parallel(n_jobs=1)]: Done   3 out of   3 | elapsed:    0.0s finished\n"
     ]
    },
    {
     "data": {
      "text/plain": [
       "LogisticRegression(C=1.0, class_weight=None, dual=False, fit_intercept=True,\n",
       "          intercept_scaling=1, max_iter=100, multi_class='ovr', n_jobs=1,\n",
       "          penalty='l2', random_state=None, solver='liblinear', tol=0.0001,\n",
       "          verbose=0, warm_start=False)"
      ]
     },
     "execution_count": 9,
     "metadata": {},
     "output_type": "execute_result"
    },
    {
     "data": {
      "image/png": "[encoded data removed]",
      "text/plain": [
       "<Figure size 432x288 with 2 Axes>"
      ]
     },
     "metadata": {},
     "output_type": "display_data"
    }
   ],
   "source": [
    "from sklearn.model_selection import cross_val_predict\n",
    "from sklearn.model_selection import StratifiedKFold\n",
    "\n",
    "X = np.vstack(test['final_embedding'].as_matrix())\n",
    "y = test['stance'].values.ravel()\n",
    "\n",
    "evaluate_train(X, y, LogisticRegression())"
   ]
  },
  {
   "cell_type": "code",
   "execution_count": 19,
   "metadata": {},
   "outputs": [],
   "source": [
    "from sklearn.metrics.pairwise import cosine_similarity\n",
    "def cossim(row):\n",
    "    #print row\n",
    "    return [cosine_similarity(\n",
    "        np.array([row['claim_sentiment_neg'], row['claim_sentiment_neu'], row['claim_sentiment_pos']]).reshape(1, -1), \n",
    "        np.array([row['topic_sentiment_neg'], row['claim_sentiment_neu'], row['topic_sentiment_pos']]).reshape(1, -1))]\n",
    "    \n",
    "\n",
    "test['similarity'] = test.apply(lambda x: cossim(x), axis=1)\n",
    "test['similarity'] = test['similarity'].apply(lambda x: x[0][0][0])"
   ]
  },
  {
   "cell_type": "code",
   "execution_count": 20,
   "metadata": {},
   "outputs": [
    {
     "name": "stdout",
     "output_type": "stream",
     "text": [
      "Train Log loss: 0.687350623361\n",
      "Train Accuracy: 0.552631578947\n"
     ]
    },
    {
     "name": "stderr",
     "output_type": "stream",
     "text": [
      "[Parallel(n_jobs=1)]: Done   1 out of   1 | elapsed:    0.0s remaining:    0.0s\n",
      "[Parallel(n_jobs=1)]: Done   3 out of   3 | elapsed:    0.0s finished\n"
     ]
    },
    {
     "data": {
      "text/plain": [
       "LogisticRegression(C=1.0, class_weight=None, dual=False, fit_intercept=True,\n",
       "          intercept_scaling=1, max_iter=100, multi_class='ovr', n_jobs=1,\n",
       "          penalty='l2', random_state=None, solver='liblinear', tol=0.0001,\n",
       "          verbose=0, warm_start=False)"
      ]
     },
     "execution_count": 20,
     "metadata": {},
     "output_type": "execute_result"
    },
    {
     "data": {
      "image/png": "[encoded data removed]",
      "text/plain": [
       "<Figure size 432x288 with 2 Axes>"
      ]
     },
     "metadata": {},
     "output_type": "display_data"
    }
   ],
   "source": [
    "from sklearn.model_selection import cross_val_predict\n",
    "from sklearn.model_selection import StratifiedKFold\n",
    "\n",
    "X = np.vstack(test['similarity'].as_matrix())\n",
    "y = test['stance'].values.ravel()\n",
    "\n",
    "evaluate_train(X, y, LogisticRegression())"
   ]
  }
 ],
 "metadata": {
  "kernelspec": {
   "display_name": "Python 2",
   "language": "python",
   "name": "python2"
  },
  "language_info": {
   "codemirror_mode": {
    "name": "ipython",
    "version": 2
   },
   "file_extension": ".py",
   "mimetype": "text/x-python",
   "name": "python",
   "nbconvert_exporter": "python",
   "pygments_lexer": "ipython2",
   "version": "2.7.14"
  }
 },
 "nbformat": 4,
 "nbformat_minor": 2
}
