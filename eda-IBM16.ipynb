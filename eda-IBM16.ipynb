{
 "cells": [
  {
   "cell_type": "markdown",
   "metadata": {},
   "source": [
    "# Exploratory Data Analysis of IBM argument mining dataset\n",
    "The dataset(CE-EMNLP-2015.V3) can be accessed [here](http://www.research.ibm.com/haifa/dept/vst/mlta_data.shtml)\n",
    "\n",
    "This dataset contains: 2294 labeled claims and 4690 labeled evidence for 58 different topics. Labeled data published by Rinott et al. EMNLP-2015. This data is an extension of the CE-ACL-2014 data.\n",
    "\n",
    "Detailed description of this dataset can be found [here](https://www.research.ibm.com/haifa/dept/vst/papers/Evidence2015.pdf)"
   ]
  },
  {
   "cell_type": "code",
   "execution_count": 1,
   "metadata": {
    "collapsed": true
   },
   "outputs": [],
   "source": [
    "import numpy as np\n",
    "import pandas as pd"
   ]
  },
  {
   "cell_type": "markdown",
   "metadata": {},
   "source": [
    "# Reading in data\n",
    "\n",
    "### articles\n",
    "num: 547"
   ]
  },
  {
   "cell_type": "code",
   "execution_count": 10,
   "metadata": {
    "collapsed": false
   },
   "outputs": [],
   "source": [
    "artDF = pd.read_table(\"CE-EMNLP-2015.V3/articles.txt\")"
   ]
  },
  {
   "cell_type": "code",
   "execution_count": 12,
   "metadata": {
    "collapsed": false
   },
   "outputs": [
    {
     "data": {
      "text/html": [
       "<div>\n",
       "<table border=\"1\" class=\"dataframe\">\n",
       "  <thead>\n",
       "    <tr style=\"text-align: right;\">\n",
       "      <th></th>\n",
       "      <th>Topic</th>\n",
       "      <th>Title</th>\n",
       "      <th>article Id</th>\n",
       "    </tr>\n",
       "  </thead>\n",
       "  <tbody>\n",
       "    <tr>\n",
       "      <th>0</th>\n",
       "      <td>This house believes that the sale of violent v...</td>\n",
       "      <td>Video game content rating system</td>\n",
       "      <td>567</td>\n",
       "    </tr>\n",
       "    <tr>\n",
       "      <th>1</th>\n",
       "      <td>This house believes that the sale of violent v...</td>\n",
       "      <td>Grand Theft Childhood</td>\n",
       "      <td>524</td>\n",
       "    </tr>\n",
       "    <tr>\n",
       "      <th>2</th>\n",
       "      <td>This house believes that the sale of violent v...</td>\n",
       "      <td>School violence</td>\n",
       "      <td>542</td>\n",
       "    </tr>\n",
       "    <tr>\n",
       "      <th>3</th>\n",
       "      <td>This house believes that the sale of violent v...</td>\n",
       "      <td>Video game controversies</td>\n",
       "      <td>1</td>\n",
       "    </tr>\n",
       "    <tr>\n",
       "      <th>4</th>\n",
       "      <td>This house believes that the sale of violent v...</td>\n",
       "      <td>Nonviolent video game</td>\n",
       "      <td>503</td>\n",
       "    </tr>\n",
       "  </tbody>\n",
       "</table>\n",
       "</div>"
      ],
      "text/plain": [
       "                                               Topic  \\\n",
       "0  This house believes that the sale of violent v...   \n",
       "1  This house believes that the sale of violent v...   \n",
       "2  This house believes that the sale of violent v...   \n",
       "3  This house believes that the sale of violent v...   \n",
       "4  This house believes that the sale of violent v...   \n",
       "\n",
       "                              Title  article Id  \n",
       "0  Video game content rating system         567  \n",
       "1             Grand Theft Childhood         524  \n",
       "2                   School violence         542  \n",
       "3          Video game controversies           1  \n",
       "4             Nonviolent video game         503  "
      ]
     },
     "execution_count": 12,
     "metadata": {},
     "output_type": "execute_result"
    }
   ],
   "source": [
    "artDF[:5]"
   ]
  },
  {
   "cell_type": "code",
   "execution_count": null,
   "metadata": {
    "collapsed": true
   },
   "outputs": [],
   "source": [
    "text = artDF['article Id'].apply"
   ]
  },
  {
   "cell_type": "markdown",
   "metadata": {},
   "source": [
    "### claims\n",
    "num: 2294"
   ]
  },
  {
   "cell_type": "code",
   "execution_count": 13,
   "metadata": {
    "collapsed": true
   },
   "outputs": [],
   "source": [
    "claimDF = pd.read_table(\"CE-EMNLP-2015.V3/claims.txt\")"
   ]
  },
  {
   "cell_type": "code",
   "execution_count": 21,
   "metadata": {
    "collapsed": false
   },
   "outputs": [
    {
     "name": "stdout",
     "output_type": "stream",
     "text": [
      "Exposure to violent video games causes at least a temporary increase in aggression and this exposure correlates with aggression in the real world\n",
      "exposure to violent video games causes at least a temporary increase in aggression and that this exposure correlates with aggression in the real world\n"
     ]
    }
   ],
   "source": [
    "print(claimDF['Claim original text'][0])\n",
    "print(claimDF['Claim corrected version'][0])"
   ]
  },
  {
   "cell_type": "code",
   "execution_count": 22,
   "metadata": {
    "collapsed": false
   },
   "outputs": [
    {
     "data": {
      "text/html": [
       "<div>\n",
       "<table border=\"1\" class=\"dataframe\">\n",
       "  <thead>\n",
       "    <tr style=\"text-align: right;\">\n",
       "      <th></th>\n",
       "      <th>Topic</th>\n",
       "      <th>Claim original text</th>\n",
       "      <th>Claim corrected version</th>\n",
       "    </tr>\n",
       "  </thead>\n",
       "  <tbody>\n",
       "    <tr>\n",
       "      <th>0</th>\n",
       "      <td>This house believes that the sale of violent v...</td>\n",
       "      <td>Exposure to violent video games causes at leas...</td>\n",
       "      <td>exposure to violent video games causes at leas...</td>\n",
       "    </tr>\n",
       "    <tr>\n",
       "      <th>1</th>\n",
       "      <td>This house believes that the sale of violent v...</td>\n",
       "      <td>video game violence is not related to serious ...</td>\n",
       "      <td>video game violence is not related to serious ...</td>\n",
       "    </tr>\n",
       "    <tr>\n",
       "      <th>2</th>\n",
       "      <td>This house believes that the sale of violent v...</td>\n",
       "      <td>some violent video games may actually have a p...</td>\n",
       "      <td>some violent video games may actually have a p...</td>\n",
       "    </tr>\n",
       "    <tr>\n",
       "      <th>3</th>\n",
       "      <td>This house believes that the sale of violent v...</td>\n",
       "      <td>exposure to violent video games causes both sh...</td>\n",
       "      <td>exposure to violent video games causes both sh...</td>\n",
       "    </tr>\n",
       "    <tr>\n",
       "      <th>4</th>\n",
       "      <td>This house believes that the sale of violent v...</td>\n",
       "      <td>Violent video games increase the violent tende...</td>\n",
       "      <td>they increase the violent tendencies among youth</td>\n",
       "    </tr>\n",
       "  </tbody>\n",
       "</table>\n",
       "</div>"
      ],
      "text/plain": [
       "                                               Topic  \\\n",
       "0  This house believes that the sale of violent v...   \n",
       "1  This house believes that the sale of violent v...   \n",
       "2  This house believes that the sale of violent v...   \n",
       "3  This house believes that the sale of violent v...   \n",
       "4  This house believes that the sale of violent v...   \n",
       "\n",
       "                                 Claim original text  \\\n",
       "0  Exposure to violent video games causes at leas...   \n",
       "1  video game violence is not related to serious ...   \n",
       "2  some violent video games may actually have a p...   \n",
       "3  exposure to violent video games causes both sh...   \n",
       "4  Violent video games increase the violent tende...   \n",
       "\n",
       "                             Claim corrected version  \n",
       "0  exposure to violent video games causes at leas...  \n",
       "1  video game violence is not related to serious ...  \n",
       "2  some violent video games may actually have a p...  \n",
       "3  exposure to violent video games causes both sh...  \n",
       "4   they increase the violent tendencies among youth  "
      ]
     },
     "execution_count": 22,
     "metadata": {},
     "output_type": "execute_result"
    }
   ],
   "source": [
    "claimDF[:5]"
   ]
  },
  {
   "cell_type": "markdown",
   "metadata": {},
   "source": [
    "### evidence\n",
    "num: 4692"
   ]
  },
  {
   "cell_type": "code",
   "execution_count": 28,
   "metadata": {
    "collapsed": false
   },
   "outputs": [],
   "source": [
    "eviDF = pd.read_table(\"CE-EMNLP-2015.V3/evidence.txt\", names = ['Topic', 'Claim', 'Evidence', 'Evidence Type'])"
   ]
  },
  {
   "cell_type": "code",
   "execution_count": 29,
   "metadata": {
    "collapsed": false
   },
   "outputs": [
    {
     "data": {
      "text/html": [
       "<div>\n",
       "<table border=\"1\" class=\"dataframe\">\n",
       "  <thead>\n",
       "    <tr style=\"text-align: right;\">\n",
       "      <th></th>\n",
       "      <th>Topic</th>\n",
       "      <th>Claim</th>\n",
       "      <th>Evidence</th>\n",
       "      <th>Evidence Type</th>\n",
       "    </tr>\n",
       "  </thead>\n",
       "  <tbody>\n",
       "    <tr>\n",
       "      <th>0</th>\n",
       "      <td>This house believes that the sale of violent v...</td>\n",
       "      <td>Exposure to violent video games causes at leas...</td>\n",
       "      <td>A 2001 study found that exposure to violent vi...</td>\n",
       "      <td>[STUDY]</td>\n",
       "    </tr>\n",
       "    <tr>\n",
       "      <th>1</th>\n",
       "      <td>This house believes that the sale of violent v...</td>\n",
       "      <td>Exposure to violent video games causes at leas...</td>\n",
       "      <td>The most recent large scale meta-anlysis-- exa...</td>\n",
       "      <td>[STUDY]</td>\n",
       "    </tr>\n",
       "    <tr>\n",
       "      <th>2</th>\n",
       "      <td>This house believes that the sale of violent v...</td>\n",
       "      <td>Exposure to violent video games causes at leas...</td>\n",
       "      <td>One study did find an increase in reports of b...</td>\n",
       "      <td>[STUDY]</td>\n",
       "    </tr>\n",
       "    <tr>\n",
       "      <th>3</th>\n",
       "      <td>This house believes that the sale of violent v...</td>\n",
       "      <td>Exposure to violent video games causes at leas...</td>\n",
       "      <td>when one combines all relevant empirical studi...</td>\n",
       "      <td>[STUDY]</td>\n",
       "    </tr>\n",
       "    <tr>\n",
       "      <th>4</th>\n",
       "      <td>This house believes that the sale of violent v...</td>\n",
       "      <td>Exposure to violent video games causes at leas...</td>\n",
       "      <td>Research published in 2001 suggested that viol...</td>\n",
       "      <td>[STUDY]</td>\n",
       "    </tr>\n",
       "  </tbody>\n",
       "</table>\n",
       "</div>"
      ],
      "text/plain": [
       "                                               Topic  \\\n",
       "0  This house believes that the sale of violent v...   \n",
       "1  This house believes that the sale of violent v...   \n",
       "2  This house believes that the sale of violent v...   \n",
       "3  This house believes that the sale of violent v...   \n",
       "4  This house believes that the sale of violent v...   \n",
       "\n",
       "                                               Claim  \\\n",
       "0  Exposure to violent video games causes at leas...   \n",
       "1  Exposure to violent video games causes at leas...   \n",
       "2  Exposure to violent video games causes at leas...   \n",
       "3  Exposure to violent video games causes at leas...   \n",
       "4  Exposure to violent video games causes at leas...   \n",
       "\n",
       "                                            Evidence Evidence Type  \n",
       "0  A 2001 study found that exposure to violent vi...       [STUDY]  \n",
       "1  The most recent large scale meta-anlysis-- exa...       [STUDY]  \n",
       "2  One study did find an increase in reports of b...       [STUDY]  \n",
       "3  when one combines all relevant empirical studi...       [STUDY]  \n",
       "4  Research published in 2001 suggested that viol...       [STUDY]  "
      ]
     },
     "execution_count": 29,
     "metadata": {},
     "output_type": "execute_result"
    }
   ],
   "source": [
    "eviDF[:5]"
   ]
  },
  {
   "cell_type": "code",
   "execution_count": 35,
   "metadata": {
    "collapsed": false
   },
   "outputs": [
    {
     "data": {
      "text/plain": [
       "4692"
      ]
     },
     "execution_count": 35,
     "metadata": {},
     "output_type": "execute_result"
    }
   ],
   "source": [
    "len(eviDF)"
   ]
  },
  {
   "cell_type": "code",
   "execution_count": null,
   "metadata": {
    "collapsed": true
   },
   "outputs": [],
   "source": []
  },
  {
   "cell_type": "markdown",
   "metadata": {},
   "source": [
    "### motions\n",
    "num: 58"
   ]
  },
  {
   "cell_type": "code",
   "execution_count": 30,
   "metadata": {
    "collapsed": true
   },
   "outputs": [],
   "source": [
    "moDF = pd.read_table(\"CE-EMNLP-2015.V3/motions.txt\")"
   ]
  },
  {
   "cell_type": "code",
   "execution_count": 36,
   "metadata": {
    "collapsed": false
   },
   "outputs": [
    {
     "data": {
      "text/plain": [
       "58"
      ]
     },
     "execution_count": 36,
     "metadata": {},
     "output_type": "execute_result"
    }
   ],
   "source": [
    "len(moDF)"
   ]
  },
  {
   "cell_type": "code",
   "execution_count": null,
   "metadata": {
    "collapsed": true
   },
   "outputs": [],
   "source": []
  }
 ],
 "metadata": {
  "kernelspec": {
   "display_name": "Python 3",
   "language": "python",
   "name": "python3"
  },
  "language_info": {
   "codemirror_mode": {
    "name": "ipython",
    "version": 3
   },
   "file_extension": ".py",
   "mimetype": "text/x-python",
   "name": "python",
   "nbconvert_exporter": "python",
   "pygments_lexer": "ipython3",
   "version": "3.5.2"
  }
 },
 "nbformat": 4,
 "nbformat_minor": 0
}
